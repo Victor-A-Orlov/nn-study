{
  "cells": [
    {
      "cell_type": "code",
      "execution_count": 1,
      "metadata": {
        "id": "-hDMU4pmljAw"
      },
      "outputs": [],
      "source": [
        "from sklearn.datasets import make_moons, make_circles, make_classification\n",
        "import numpy as np\n",
        "import matplotlib.pyplot as plt\n",
        "from sklearn.model_selection import train_test_split\n"
      ]
    },
    {
      "cell_type": "code",
      "execution_count": 2,
      "metadata": {
        "id": "SexcZQg8lr9_"
      },
      "outputs": [],
      "source": [
        "X, y = make_classification(\n",
        "    n_features=2, n_redundant=0, n_informative=2, random_state=1, n_clusters_per_class=1\n",
        ")\n",
        "\n",
        "X_train, X_test, y_train, y_test = train_test_split(X, y, train_size=0.15)\n"
      ]
    },
    {
      "cell_type": "code",
      "execution_count": 3,
      "metadata": {
        "id": "wwq2XS8PqNH9"
      },
      "outputs": [],
      "source": [
        "def relu(x):\n",
        "    return np.max([np.zeros_like(x), x], axis=0)\n",
        "\n",
        "def sigmoid(x):\n",
        "    return 1/(1 + np.exp(-x))\n",
        "\n",
        "def relu_derivative(x):\n",
        "    return np.array(x > 0, dtype='float')\n",
        "\n",
        "def sigmoid_derivative(x):\n",
        "    return sigmoid(x)*(1 - sigmoid(x))\n",
        "\n",
        "def mse(y_true, y_pred):\n",
        "    return np.mean(np.power(y_true - y_pred, 2))\n",
        "\n",
        "def mse_derivative(y_true, y_pred):\n",
        "    return 2 * (y_pred - y_true) / y_pred.size"
      ]
    },
    {
      "cell_type": "code",
      "execution_count": 4,
      "metadata": {
        "id": "QMm6KRT8qrfS"
      },
      "outputs": [],
      "source": [
        "class Layer:\n",
        "    def __init__(self, input_size, output_size):\n",
        "        self.w = np.random.normal(size=(input_size, output_size))\n",
        "        self.b = np.random.normal(size=(1, output_size))\n",
        "        self.input = np.zeros(input_size)\n",
        "        \n",
        "    def forward(self, x):\n",
        "        self.input = x\n",
        "        y = np.dot(x, self.w) + self.b\n",
        "        self.output = y\n",
        "        return self.output\n",
        "    \n",
        "    def backward(self, out_grad, lr=0.1):\n",
        "        in_grad = np.dot(out_grad, self.w.T)\n",
        "        w_grad = np.dot(self.input.T, out_grad)\n",
        "        b_grad = out_grad\n",
        "        \n",
        "        self.w = self.w - lr * w_grad\n",
        "        self.b -= lr * b_grad\n",
        "        return in_grad"
      ]
    },
    {
      "cell_type": "code",
      "execution_count": 5,
      "metadata": {
        "id": "NpDOAwKdqu07"
      },
      "outputs": [],
      "source": [
        "class ReLU:\n",
        "    def forward(self, input):\n",
        "        self.input = input\n",
        "        return relu(input)\n",
        "    \n",
        "    def backward(self, out_grad):\n",
        "        return out_grad * relu_derivative(self.input)\n",
        "    \n",
        "class Sigmoid:\n",
        "    def forward(self, input):\n",
        "        self.input = input\n",
        "        return sigmoid(input)\n",
        "    \n",
        "    def backward(self, out_grad):\n",
        "        return out_grad * sigmoid_derivative(self.input)"
      ]
    },
    {
      "cell_type": "code",
      "execution_count": 6,
      "metadata": {
        "id": "8mKJhKdrqwQq"
      },
      "outputs": [],
      "source": [
        "class NeuralNetwork:\n",
        "    def __init__(self):\n",
        "        self.l1 = Layer(2,3)\n",
        "        self.a1 = ReLU()\n",
        "        self.l2 = Layer(3,1)\n",
        "        self.a2 = Sigmoid()\n",
        "        \n",
        "    def forward(self, x):\n",
        "        # out = x.reshape(1,-1)\n",
        "        out = self.l1.forward(x)\n",
        "        out = self.a1.forward(out)\n",
        "        out = self.l2.forward(out)\n",
        "        out = self.a2.forward(out)\n",
        "        return out\n",
        "        \n",
        "    def fit(self, X, y, epochs=50):\n",
        "        epoch = 0\n",
        "        history = []\n",
        "        for epoch in range(epochs):\n",
        "            squared_error = 0\n",
        "            for x, y_true in zip(X, y):\n",
        "                # Прямой проход\n",
        "                x = x.reshape(1,-1)\n",
        "                out = self.forward(x)\n",
        "                \n",
        "                # Обратный проход\n",
        "                out_grad = mse_derivative(y_true, out)\n",
        "                out_grad = self.a2.backward(out_grad)\n",
        "                out_grad = self.l2.backward(out_grad)\n",
        "                out_grad = self.a1.backward(out_grad)\n",
        "                out_grad = self.l1.backward(out_grad)\n",
        "                \n",
        "                # Квадрат ошибки\n",
        "                squared_error = squared_error + (out - y_true)**2\n",
        "                \n",
        "            mean_squared_error = (squared_error/y.size).item()\n",
        "            history.append(mean_squared_error)\n",
        "            print('Epoch: ', epoch, ' Loss: ', mean_squared_error)\n",
        "        return history"
      ]
    },
    {
      "cell_type": "code",
      "execution_count": 7,
      "metadata": {
        "colab": {
          "base_uri": "https://localhost:8080/"
        },
        "id": "DLkTgxPoqy3a",
        "outputId": "7a914087-9896-4a48-9f1e-d1eec06ff3ab"
      },
      "outputs": [
        {
          "output_type": "stream",
          "name": "stdout",
          "text": [
            "Epoch:  0  Loss:  0.27841000863611753\n",
            "Epoch:  1  Loss:  0.15160640163006864\n",
            "Epoch:  2  Loss:  0.08896870567518524\n",
            "Epoch:  3  Loss:  0.05724350878485946\n",
            "Epoch:  4  Loss:  0.04093576064595564\n",
            "Epoch:  5  Loss:  0.030808436250984183\n",
            "Epoch:  6  Loss:  0.02411779006257774\n",
            "Epoch:  7  Loss:  0.019740574933152105\n",
            "Epoch:  8  Loss:  0.01694666962081127\n",
            "Epoch:  9  Loss:  0.014852626571444738\n",
            "Epoch:  10  Loss:  0.013193264748513737\n",
            "Epoch:  11  Loss:  0.011854452913274383\n",
            "Epoch:  12  Loss:  0.010757014478029127\n",
            "Epoch:  13  Loss:  0.009844612149767064\n",
            "Epoch:  14  Loss:  0.009076380493645264\n",
            "Epoch:  15  Loss:  0.008422159543131191\n",
            "Epoch:  16  Loss:  0.007859328909553846\n",
            "Epoch:  17  Loss:  0.0073706666157653455\n",
            "Epoch:  18  Loss:  0.006942877211418576\n",
            "Epoch:  19  Loss:  0.0065655639454341745\n",
            "Epoch:  20  Loss:  0.006230500034773911\n",
            "Epoch:  21  Loss:  0.00593110441877996\n",
            "Epoch:  22  Loss:  0.005662059377743808\n",
            "Epoch:  23  Loss:  0.0054190279756669325\n",
            "Epoch:  24  Loss:  0.0051984427039605385\n",
            "Epoch:  25  Loss:  0.004997345568049269\n",
            "Epoch:  26  Loss:  0.004813265796425189\n",
            "Epoch:  27  Loss:  0.004655927607240642\n",
            "Epoch:  28  Loss:  0.004526510087656932\n",
            "Epoch:  29  Loss:  0.0044052661498148364\n",
            "Epoch:  30  Loss:  0.004291320163134356\n",
            "Epoch:  31  Loss:  0.004183945168300803\n",
            "Epoch:  32  Loss:  0.004082526143611681\n",
            "Epoch:  33  Loss:  0.003986534823399954\n",
            "Epoch:  34  Loss:  0.003895511904371782\n",
            "Epoch:  35  Loss:  0.0038090541039483778\n",
            "Epoch:  36  Loss:  0.0037268044894734438\n",
            "Epoch:  37  Loss:  0.0036484450697219953\n",
            "Epoch:  38  Loss:  0.003573690990847614\n",
            "Epoch:  39  Loss:  0.0035022858980880535\n",
            "Epoch:  40  Loss:  0.003433998164240564\n",
            "Epoch:  41  Loss:  0.003368617776671045\n",
            "Epoch:  42  Loss:  0.0033059537347079663\n",
            "Epoch:  43  Loss:  0.003245831849813015\n",
            "Epoch:  44  Loss:  0.0031880928687907724\n",
            "Epoch:  45  Loss:  0.0031325908598202465\n",
            "Epoch:  46  Loss:  0.0030791918150181786\n",
            "Epoch:  47  Loss:  0.003027772433360366\n",
            "Epoch:  48  Loss:  0.0029782190552664484\n",
            "Epoch:  49  Loss:  0.002930426725776411\n"
          ]
        }
      ],
      "source": [
        "nn = NeuralNetwork()\n",
        "history = nn.fit(X_train, y_train)"
      ]
    },
    {
      "cell_type": "code",
      "execution_count": 8,
      "metadata": {
        "colab": {
          "base_uri": "https://localhost:8080/",
          "height": 282
        },
        "id": "3yLfu0kpq24T",
        "outputId": "ce0c00ab-8664-46d7-b8d2-d649c21d4766"
      },
      "outputs": [
        {
          "output_type": "execute_result",
          "data": {
            "text/plain": [
              "[<matplotlib.lines.Line2D at 0x7fd65dcfcbd0>]"
            ]
          },
          "metadata": {},
          "execution_count": 8
        },
        {
          "output_type": "display_data",
          "data": {
            "text/plain": [
              "<Figure size 432x288 with 1 Axes>"
            ],
            "image/png": "[encoded data removed]"
          },
          "metadata": {
            "needs_background": "light"
          }
        }
      ],
      "source": [
        "plt.plot(history)"
      ]
    },
    {
      "cell_type": "code",
      "execution_count": 9,
      "metadata": {
        "colab": {
          "base_uri": "https://localhost:8080/",
          "height": 340
        },
        "id": "Gxu0jffeq6_6",
        "outputId": "e0cf6115-a531-4f32-ae57-e80187b2dac6"
      },
      "outputs": [
        {
          "output_type": "execute_result",
          "data": {
            "text/plain": [
              "<matplotlib.collections.PathCollection at 0x7fd65d787310>"
            ]
          },
          "metadata": {},
          "execution_count": 9
        },
        {
          "output_type": "display_data",
          "data": {
            "text/plain": [
              "<Figure size 720x360 with 1 Axes>"
            ],
            "image/png": "[encoded data removed]"
          },
          "metadata": {
            "needs_background": "light"
          }
        }
      ],
      "source": [
        "# Визуализация\n",
        "\n",
        "x_min, x_max = X[:, 0].min() - 1, X[:, 0].max() + 1\n",
        "y_min, y_max = X[:, 1].min() - 1, X[:, 1].max() + 1\n",
        "xx1, xx2 = np.meshgrid(np.arange(x_min, x_max, 0.1), np.arange(y_min, y_max, 0.1))\n",
        "x_mesh = np.c_[xx1.ravel(), xx2.ravel()]\n",
        "Z = nn.forward(x_mesh)\n",
        "Z = Z.reshape(xx1.shape)\n",
        "\n",
        "plt.figure(figsize=(10,5))\n",
        "plt.pcolormesh(xx1, xx2, Z, alpha=0.1, cmap='bwr')\n",
        "plt.scatter(X[:,0], X[:,1], c=y, cmap='bwr', alpha=0.3)\n",
        "plt.scatter(X_train[:,0], X_train[:,1], c=y_train, cmap='bwr', edgecolors='black')"
      ]
    },
    {
      "cell_type": "markdown",
      "metadata": {
        "id": "SiYYN_Zirwwa"
      },
      "source": [
        "Чёрным обведены точки, которые были в обучающей выборке"
      ]
    }
  ],
  "metadata": {
    "colab": {
      "name": "nn_study_01.ipynb",
      "provenance": [],
      "collapsed_sections": []
    },
    "kernelspec": {
      "display_name": "Python 3",
      "name": "python3"
    },
    "language_info": {
      "name": "python"
    }
  },
  "nbformat": 4,
  "nbformat_minor": 0
}