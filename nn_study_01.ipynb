{
  "cells": [
    {
      "cell_type": "markdown",
      "metadata": {
        "id": "view-in-github",
        "colab_type": "text"
      },
      "source": [
        "<a href=\"https://colab.research.google.com/github/Victor-A-Orlov/nn-study/blob/main/nn_study_01.ipynb\" target=\"_parent\"><img src=\"https://colab.research.google.com/assets/colab-badge.svg\" alt=\"Open In Colab\"/></a>"
      ]
    },
    {
      "cell_type": "code",
      "execution_count": 1,
      "metadata": {
        "id": "-hDMU4pmljAw"
      },
      "outputs": [],
      "source": [
        "from sklearn.datasets import make_moons, make_circles, make_classification\n",
        "import numpy as np\n",
        "import matplotlib.pyplot as plt\n",
        "from sklearn.model_selection import train_test_split\n"
      ]
    },
    {
      "cell_type": "code",
      "execution_count": 2,
      "metadata": {
        "id": "SexcZQg8lr9_"
      },
      "outputs": [],
      "source": [
        "X, y = make_classification(\n",
        "    n_features=2, n_redundant=0, n_informative=2, random_state=1, n_clusters_per_class=1\n",
        ")\n",
        "\n",
        "X_train, X_test, y_train, y_test = train_test_split(X, y, train_size=0.15)"
      ]
    },
    {
      "cell_type": "code",
      "execution_count": 3,
      "metadata": {
        "id": "wwq2XS8PqNH9"
      },
      "outputs": [],
      "source": [
        "def relu(x):\n",
        "    return np.max([np.zeros_like(x), x], axis=0)\n",
        "\n",
        "def sigmoid(x):\n",
        "    return 1/(1 + np.exp(-x))\n",
        "\n",
        "def relu_derivative(x):\n",
        "    return np.array(x > 0, dtype='float')\n",
        "\n",
        "def sigmoid_derivative(x):\n",
        "    return sigmoid(x)*(1 - sigmoid(x))\n",
        "\n",
        "def mse(y_true, y_pred):\n",
        "    return np.mean((y_true - y_pred)**2)\n",
        "\n",
        "def mse_derivative(y_true, y_pred):\n",
        "    return 2 * (y_pred - y_true) / y_pred.size"
      ]
    },
    {
      "cell_type": "code",
      "execution_count": 4,
      "metadata": {
        "id": "QMm6KRT8qrfS"
      },
      "outputs": [],
      "source": [
        "class Layer:\n",
        "    def __init__(self, input_size, output_size):\n",
        "        self.w = np.random.normal(size=(input_size, output_size))\n",
        "        self.b = np.random.normal(size=(1, output_size))\n",
        "        self.input = np.zeros(input_size)\n",
        "        \n",
        "    def forward(self, x):\n",
        "        self.input = x\n",
        "        y = np.dot(x, self.w) + self.b\n",
        "        self.output = y\n",
        "        return self.output\n",
        "    \n",
        "    def backward(self, out_grad, lr=0.1):\n",
        "        in_grad = np.dot(out_grad, self.w.T)\n",
        "        w_grad = np.dot(self.input.T, out_grad)\n",
        "        b_grad = out_grad\n",
        "        \n",
        "        self.w = self.w - lr * w_grad\n",
        "        self.b -= lr * b_grad\n",
        "        return in_grad"
      ]
    },
    {
      "cell_type": "code",
      "execution_count": 5,
      "metadata": {
        "id": "NpDOAwKdqu07"
      },
      "outputs": [],
      "source": [
        "class ReLU:\n",
        "    def forward(self, input):\n",
        "        self.input = input\n",
        "        return relu(input)\n",
        "    \n",
        "    def backward(self, out_grad):\n",
        "        return out_grad * relu_derivative(self.input)\n",
        "    \n",
        "class Sigmoid:\n",
        "    def forward(self, input):\n",
        "        self.input = input\n",
        "        return sigmoid(input)\n",
        "    \n",
        "    def backward(self, out_grad):\n",
        "        return out_grad * sigmoid_derivative(self.input)"
      ]
    },
    {
      "cell_type": "code",
      "execution_count": 6,
      "metadata": {
        "id": "8mKJhKdrqwQq"
      },
      "outputs": [],
      "source": [
        "class NeuralNetwork:\n",
        "    def __init__(self):\n",
        "        self.l1 = Layer(2,3)\n",
        "        self.a1 = ReLU()\n",
        "        self.l2 = Layer(3,1)\n",
        "        self.a2 = Sigmoid()\n",
        "        \n",
        "    def forward(self, x):\n",
        "        # out = x.reshape(1,-1)\n",
        "        out = self.l1.forward(x)\n",
        "        out = self.a1.forward(out)\n",
        "        out = self.l2.forward(out)\n",
        "        out = self.a2.forward(out)\n",
        "        return out\n",
        "        \n",
        "    def fit(self, X, y, epochs=50):\n",
        "        epoch = 0\n",
        "        history = []\n",
        "        for epoch in range(epochs):\n",
        "            squared_error = 0\n",
        "            for x, y_true in zip(X, y):\n",
        "                # Прямой проход\n",
        "                x = x.reshape(1,-1)\n",
        "                out = self.forward(x)\n",
        "                \n",
        "                # Обратный проход\n",
        "                out_grad = mse_derivative(y_true, out)\n",
        "                out_grad = self.a2.backward(out_grad)\n",
        "                out_grad = self.l2.backward(out_grad)\n",
        "                out_grad = self.a1.backward(out_grad)\n",
        "                out_grad = self.l1.backward(out_grad)\n",
        "                \n",
        "                # Квадрат ошибки\n",
        "                squared_error = squared_error + (out - y_true)**2\n",
        "                \n",
        "            mean_squared_error = (squared_error/y.size).item()\n",
        "            history.append(mean_squared_error)\n",
        "            print('Epoch: ', epoch, ' Loss: ', mean_squared_error)\n",
        "        return history"
      ]
    },
    {
      "cell_type": "code",
      "execution_count": 7,
      "metadata": {
        "colab": {
          "base_uri": "https://localhost:8080/"
        },
        "id": "DLkTgxPoqy3a",
        "outputId": "975439dd-25e0-4479-d3d2-9ec1858ef320"
      },
      "outputs": [
        {
          "output_type": "stream",
          "name": "stdout",
          "text": [
            "Epoch:  0  Loss:  0.5491957340701086\n",
            "Epoch:  1  Loss:  0.5249476250186927\n",
            "Epoch:  2  Loss:  0.4811430864869051\n",
            "Epoch:  3  Loss:  0.39406708967579457\n",
            "Epoch:  4  Loss:  0.24474058696624112\n",
            "Epoch:  5  Loss:  0.09909904256908225\n",
            "Epoch:  6  Loss:  0.035533157077535536\n",
            "Epoch:  7  Loss:  0.018568636888584164\n",
            "Epoch:  8  Loss:  0.012693669326272741\n",
            "Epoch:  9  Loss:  0.009990407842331399\n",
            "Epoch:  10  Loss:  0.008347510840607714\n",
            "Epoch:  11  Loss:  0.007257845836089451\n",
            "Epoch:  12  Loss:  0.006468620179201632\n",
            "Epoch:  13  Loss:  0.005856485256396369\n",
            "Epoch:  14  Loss:  0.0053596121612496566\n",
            "Epoch:  15  Loss:  0.004943652555006391\n",
            "Epoch:  16  Loss:  0.0045878254253727095\n",
            "Epoch:  17  Loss:  0.004288381088729258\n",
            "Epoch:  18  Loss:  0.004015904200724186\n",
            "Epoch:  19  Loss:  0.003773368775761169\n",
            "Epoch:  20  Loss:  0.0035560963051851175\n",
            "Epoch:  21  Loss:  0.0033603826475461763\n",
            "Epoch:  22  Loss:  0.003183236807306375\n",
            "Epoch:  23  Loss:  0.0030222061608388908\n",
            "Epoch:  24  Loss:  0.002871311810176487\n",
            "Epoch:  25  Loss:  0.002741636380378264\n",
            "Epoch:  26  Loss:  0.0026147626917019185\n",
            "Epoch:  27  Loss:  0.0025017053402234895\n",
            "Epoch:  28  Loss:  0.002397244959879396\n",
            "Epoch:  29  Loss:  0.002303241034481219\n",
            "Epoch:  30  Loss:  0.0022102541237657165\n",
            "Epoch:  31  Loss:  0.0021265272470145855\n",
            "Epoch:  32  Loss:  0.0020483973460157785\n",
            "Epoch:  33  Loss:  0.0019753377271398372\n",
            "Epoch:  34  Loss:  0.0019068853428379309\n",
            "Epoch:  35  Loss:  0.0018426313474760826\n",
            "Epoch:  36  Loss:  0.0017822133345607313\n",
            "Epoch:  37  Loss:  0.001725308901516291\n",
            "Epoch:  38  Loss:  0.0016716302748455278\n",
            "Epoch:  39  Loss:  0.0016209197909480336\n",
            "Epoch:  40  Loss:  0.001572946073644075\n",
            "Epoch:  41  Loss:  0.0015275007835351818\n",
            "Epoch:  42  Loss:  0.0014843958400781964\n",
            "Epoch:  43  Loss:  0.001443461036949655\n",
            "Epoch:  44  Loss:  0.001404541986528724\n",
            "Epoch:  45  Loss:  0.001367498341258528\n",
            "Epoch:  46  Loss:  0.0013322022490698331\n",
            "Epoch:  47  Loss:  0.0012985370075579929\n",
            "Epoch:  48  Loss:  0.0012663958876309187\n",
            "Epoch:  49  Loss:  0.0012356811022185645\n"
          ]
        }
      ],
      "source": [
        "nn = NeuralNetwork()\n",
        "history = nn.fit(X_train, y_train)"
      ]
    },
    {
      "cell_type": "code",
      "execution_count": 8,
      "metadata": {
        "colab": {
          "base_uri": "https://localhost:8080/",
          "height": 282
        },
        "id": "3yLfu0kpq24T",
        "outputId": "6e4bdf91-e777-40e5-e197-c72908b0c6e5"
      },
      "outputs": [
        {
          "output_type": "execute_result",
          "data": {
            "text/plain": [
              "[<matplotlib.lines.Line2D at 0x7f1fe4477b10>]"
            ]
          },
          "metadata": {},
          "execution_count": 8
        },
        {
          "output_type": "display_data",
          "data": {
            "text/plain": [
              "<Figure size 432x288 with 1 Axes>"
            ],
            "image/png": "[encoded data removed]"
          },
          "metadata": {
            "needs_background": "light"
          }
        }
      ],
      "source": [
        "plt.plot(history)"
      ]
    },
    {
      "cell_type": "code",
      "execution_count": 9,
      "metadata": {
        "colab": {
          "base_uri": "https://localhost:8080/",
          "height": 340
        },
        "id": "Gxu0jffeq6_6",
        "outputId": "f42c79b6-d349-4fcb-d030-be4b2c2226fb"
      },
      "outputs": [
        {
          "output_type": "execute_result",
          "data": {
            "text/plain": [
              "<matplotlib.collections.PathCollection at 0x7f1fe3f63c10>"
            ]
          },
          "metadata": {},
          "execution_count": 9
        },
        {
          "output_type": "display_data",
          "data": {
            "text/plain": [
              "<Figure size 720x360 with 1 Axes>"
            ],
            "image/png": "[encoded data removed]"
          },
          "metadata": {
            "needs_background": "light"
          }
        }
      ],
      "source": [
        "# Визуализация\n",
        "\n",
        "x_min, x_max = X[:, 0].min() - 1, X[:, 0].max() + 1\n",
        "y_min, y_max = X[:, 1].min() - 1, X[:, 1].max() + 1\n",
        "xx1, xx2 = np.meshgrid(np.arange(x_min, x_max, 0.1), np.arange(y_min, y_max, 0.1))\n",
        "x_mesh = np.c_[xx1.ravel(), xx2.ravel()]\n",
        "Z = nn.forward(x_mesh)\n",
        "Z = Z.reshape(xx1.shape)\n",
        "\n",
        "plt.figure(figsize=(10,5))\n",
        "plt.pcolormesh(xx1, xx2, Z, alpha=0.1, cmap='bwr')\n",
        "plt.scatter(X[:,0], X[:,1], c=y, cmap='bwr', alpha=0.3)\n",
        "plt.scatter(X_train[:,0], X_train[:,1], c=y_train, cmap='bwr', edgecolors='black')"
      ]
    },
    {
      "cell_type": "markdown",
      "metadata": {
        "id": "SiYYN_Zirwwa"
      },
      "source": [
        "Чёрным обведены точки, которые были в обучающей выборке"
      ]
    }
  ],
  "metadata": {
    "colab": {
      "name": "nn_study_01.ipynb",
      "provenance": [],
      "collapsed_sections": [],
      "authorship_tag": "ABX9TyMweHlbSkHCaIWc+3vRuJZr",
      "include_colab_link": true
    },
    "kernelspec": {
      "display_name": "Python 3",
      "name": "python3"
    },
    "language_info": {
      "name": "python"
    }
  },
  "nbformat": 4,
  "nbformat_minor": 0
}